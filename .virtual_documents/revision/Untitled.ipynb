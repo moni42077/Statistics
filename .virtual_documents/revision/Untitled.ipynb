%matplotlib inline

import math
import matplotlib.pyplot as plt


def binomial(n,k,p):
    return math.comb(n,k) * p ** k * (1-p) **(n-k)


n = 10
p1 = 0.1
p2 = 0.5

ks = [i for i in range(10)]

plt.bar(ks,[binomial(n,k,p1) for k in ks])
plt.title('Binomial with p = 0.1')
plt.xlabel('x')
plt.ylabel('p(x)')


plt.bar(ks,[binomial(n,k,p2) for k in ks])
plt.title('Binomial with p = 0.5')
plt.xlabel('x')
plt.ylabel('p(x)')


def neg_bin(r,k,p):
    return math.comb(k-1,r-1)*p**r * (1-p)**(k-r)

ks = [i for i in range(50)]




